{
 "cells": [
  {
   "cell_type": "markdown",
   "metadata": {
    "nbgrader": {
     "grade": false,
     "grade_id": "cell-29437832a46a1f5c",
     "locked": true,
     "schema_version": 3,
     "solution": false
    }
   },
   "source": [
    "### Introduction to K Nearest Neighbors\n",
    "\n",
    "This notebook provides a fundamental introduction to the KNeighborsClassifier from scikit-learn. It demonstrates building several versions of the model by varying the k values and assessing their performance. Additionally, it includes data preprocessing steps such as scaling to enhance the classifier's performance.\n",
    "\n",
    "Furthermore, this template features detailed code explanations for more complex tasks."
   ]
  },
  {
   "cell_type": "markdown",
   "metadata": {
    "nbgrader": {
     "grade": false,
     "grade_id": "cell-8af1761a5d8a8126",
     "locked": true,
     "schema_version": 3,
     "solution": false
    }
   },
   "source": [
    "#### Index\n",
    "\n",
    "- [Assigning X and y](#-Problem-1)\n",
    "- [Creating train/test split](#-Problem-2)\n",
    "- [Column transformer](#-Problem-3)\n",
    "- [Pipeline (5)](#-Problem-4)\n",
    "- [Pipeline (50)](#-Problem-5)\n",
    "- [False predictions](#-Problem-6)"
   ]
  },
  {
   "cell_type": "code",
   "execution_count": 7,
   "metadata": {},
   "outputs": [],
   "source": [
    "#Import required libraries\n",
    "\n",
    "import pandas as pd\n",
    "import numpy as np\n",
    "import matplotlib.pyplot as plt\n",
    "\n",
    "from sklearn.preprocessing import StandardScaler, OneHotEncoder\n",
    "from sklearn.pipeline import Pipeline\n",
    "from sklearn.compose import make_column_transformer\n",
    "from sklearn.neighbors import KNeighborsClassifier\n",
    "from sklearn.model_selection import train_test_split"
   ]
  },
  {
   "cell_type": "code",
   "execution_count": 4,
   "metadata": {},
   "outputs": [],
   "source": [
    "#Connect to the data\n",
    "default = pd.read_csv(r'C:\\Users\\agnek\\OneDrive\\Documents\\Educational_Training Materials\\default.csv')"
   ]
  },
  {
   "cell_type": "code",
   "execution_count": 4,
   "metadata": {},
   "outputs": [
    {
     "data": {
      "text/html": [
       "<div>\n",
       "<style scoped>\n",
       "    .dataframe tbody tr th:only-of-type {\n",
       "        vertical-align: middle;\n",
       "    }\n",
       "\n",
       "    .dataframe tbody tr th {\n",
       "        vertical-align: top;\n",
       "    }\n",
       "\n",
       "    .dataframe thead th {\n",
       "        text-align: right;\n",
       "    }\n",
       "</style>\n",
       "<table border=\"1\" class=\"dataframe\">\n",
       "  <thead>\n",
       "    <tr style=\"text-align: right;\">\n",
       "      <th></th>\n",
       "      <th>Unnamed: 0</th>\n",
       "      <th>default</th>\n",
       "      <th>student</th>\n",
       "      <th>balance</th>\n",
       "      <th>income</th>\n",
       "    </tr>\n",
       "  </thead>\n",
       "  <tbody>\n",
       "    <tr>\n",
       "      <th>0</th>\n",
       "      <td>1</td>\n",
       "      <td>No</td>\n",
       "      <td>No</td>\n",
       "      <td>729.526495</td>\n",
       "      <td>44361.625074</td>\n",
       "    </tr>\n",
       "    <tr>\n",
       "      <th>1</th>\n",
       "      <td>2</td>\n",
       "      <td>No</td>\n",
       "      <td>Yes</td>\n",
       "      <td>817.180407</td>\n",
       "      <td>12106.134700</td>\n",
       "    </tr>\n",
       "    <tr>\n",
       "      <th>2</th>\n",
       "      <td>3</td>\n",
       "      <td>No</td>\n",
       "      <td>No</td>\n",
       "      <td>1073.549164</td>\n",
       "      <td>31767.138947</td>\n",
       "    </tr>\n",
       "    <tr>\n",
       "      <th>3</th>\n",
       "      <td>4</td>\n",
       "      <td>No</td>\n",
       "      <td>No</td>\n",
       "      <td>529.250605</td>\n",
       "      <td>35704.493935</td>\n",
       "    </tr>\n",
       "    <tr>\n",
       "      <th>4</th>\n",
       "      <td>5</td>\n",
       "      <td>No</td>\n",
       "      <td>No</td>\n",
       "      <td>785.655883</td>\n",
       "      <td>38463.495879</td>\n",
       "    </tr>\n",
       "  </tbody>\n",
       "</table>\n",
       "</div>"
      ],
      "text/plain": [
       "   Unnamed: 0 default student      balance        income\n",
       "0           1      No      No   729.526495  44361.625074\n",
       "1           2      No     Yes   817.180407  12106.134700\n",
       "2           3      No      No  1073.549164  31767.138947\n",
       "3           4      No      No   529.250605  35704.493935\n",
       "4           5      No      No   785.655883  38463.495879"
      ]
     },
     "execution_count": 4,
     "metadata": {},
     "output_type": "execute_result"
    }
   ],
   "source": [
    "#Quick overview of the data\n",
    "default.head()"
   ]
  },
  {
   "cell_type": "markdown",
   "metadata": {
    "nbgrader": {
     "grade": false,
     "grade_id": "cell-4faab2084873db33",
     "locked": true,
     "schema_version": 3,
     "solution": false
    }
   },
   "source": [
    "[Back to top](#-Index)\n",
    "\n",
    "### Assigning X and y\n",
    "\n",
    "Defining X as all columns except for `default` and `y` as `default`."
   ]
  },
  {
   "cell_type": "code",
   "execution_count": 10,
   "metadata": {
    "nbgrader": {
     "grade": false,
     "grade_id": "cell-9aba0ab3f7898056",
     "locked": false,
     "schema_version": 3,
     "solution": true
    }
   },
   "outputs": [
    {
     "name": "stdout",
     "output_type": "stream",
     "text": [
      "  student      balance        income\n",
      "0      No   729.526495  44361.625074\n",
      "1     Yes   817.180407  12106.134700\n",
      "2      No  1073.549164  31767.138947\n",
      "3      No   529.250605  35704.493935\n",
      "4      No   785.655883  38463.495879\n",
      "==============\n",
      "0    No\n",
      "1    No\n",
      "2    No\n",
      "3    No\n",
      "4    No\n",
      "Name: default, dtype: object\n"
     ]
    }
   ],
   "source": [
    "#Define X and y\n",
    "X = default[['student', 'balance', 'income']]\n",
    "y = default['default']\n",
    "\n",
    "print(X.head())\n",
    "print('==============')\n",
    "print(y.head())"
   ]
  },
  {
   "cell_type": "markdown",
   "metadata": {
    "nbgrader": {
     "grade": false,
     "grade_id": "cell-f1fd0040b6af4bcc",
     "locked": true,
     "schema_version": 3,
     "solution": false
    }
   },
   "source": [
    "[Back to top](#-Index)\n",
    "\n",
    "### Creating Train Test Split\n",
    "\n",
    "Using the `train_test_split` function to create a train test split on `X` and `y` with 25% of the data assigned as the test set.  Set `random_state = 42` for consistency. "
   ]
  },
  {
   "cell_type": "code",
   "execution_count": 11,
   "metadata": {
    "nbgrader": {
     "grade": false,
     "grade_id": "cell-b96d0d394835021c",
     "locked": false,
     "schema_version": 3,
     "solution": true
    }
   },
   "outputs": [
    {
     "name": "stdout",
     "output_type": "stream",
     "text": [
      "(7500, 3)\n",
      "(2500, 3)\n"
     ]
    }
   ],
   "source": [
    "#Split data into training and test sets\n",
    "X_train, X_test, y_train, y_test = train_test_split(X, y, test_size = 0.25, random_state=42)\n",
    "\n",
    "# Answer check\n",
    "print(X_train.shape)\n",
    "print(X_test.shape)"
   ]
  },
  {
   "cell_type": "markdown",
   "metadata": {
    "nbgrader": {
     "grade": false,
     "grade_id": "cell-160bd9569a7b513e",
     "locked": true,
     "schema_version": 3,
     "solution": false
    }
   },
   "source": [
    "[Back to top](#-Index)\n",
    "\n",
    "### Column Transformer\n",
    "\n",
    "Using the `make_column_transformer` to create a column transformer. Inside the `make_column_transformer` specifying an instance of the `OneHotEncoder` transformer from scikit-learn. Inside `OneHotEncoder` setting `drop` equal to `'if_binary'`. Applying this transformation to the `student` column. On the `remainder` columns, applying a `StandardScaler()` transformation.\n",
    "\n",
    "[Documentation for `make_column_transformer`](https://scikit-learn.org/stable/modules/generated/sklearn.compose.make_column_transformer.html)"
   ]
  },
  {
   "cell_type": "code",
   "execution_count": 12,
   "metadata": {
    "nbgrader": {
     "grade": false,
     "grade_id": "cell-b416c385629380d6",
     "locked": false,
     "schema_version": 3,
     "solution": true
    }
   },
   "outputs": [
    {
     "name": "stdout",
     "output_type": "stream",
     "text": [
      "ColumnTransformer(remainder=StandardScaler(),\n",
      "                  transformers=[('onehotencoder',\n",
      "                                 OneHotEncoder(drop='if_binary'),\n",
      "                                 ['student'])])\n"
     ]
    }
   ],
   "source": [
    "\n",
    "### Create a column transformer \n",
    "transformer = make_column_transformer((OneHotEncoder(drop = 'if_binary'), ['student']), \n",
    "                                     remainder = StandardScaler())\n",
    "\n",
    "# Answer check\n",
    "print(transformer)"
   ]
  },
  {
   "cell_type": "markdown",
   "metadata": {},
   "source": [
    "### Code Overview\n",
    "\n",
    "This code creates a column transformer using the make_column_transformer function from the sklearn.compose module. This transformer applies different preprocessing steps to different columns of a DataFrame. Here’s a detailed explanation:\n",
    "\n",
    "#### make_column_transformer:\n",
    "\n",
    "This function is a convenience wrapper around ColumnTransformer, which constructs a transformer that can apply different preprocessing and transformation steps to different subsets of the features.\n",
    "\n",
    "First Argument ((OneHotEncoder(drop='if_binary'), ['student'])):\n",
    "\n",
    "#### OneHotEncoder(drop='if_binary'): \n",
    "This specifies the transformer to apply to the column 'student'.\n",
    "OneHotEncoder: A transformer that converts categorical data into a one-hot encoded format (a binary column for each category).\n",
    "drop='if_binary': This argument tells the encoder to drop one of the binary columns if the feature is binary (i.e., has only two categories). This avoids multicollinearity.\n",
    "['student']: This specifies the column to which the OneHotEncoder should be applied. In this case, it’s the 'student' column.\n",
    "\n",
    "#### Second Argument (remainder=StandardScaler()):\n",
    "\n",
    "#### remainder: \n",
    "This parameter specifies what to do with the remaining columns that were not explicitly specified in the transformations.\n",
    "#### StandardScaler(): \n",
    "This scaler standardizes the remaining columns by removing the mean and scaling to unit variance. It ensures that each feature contributes equally to the model, regardless of their original scale.\n",
    "\n",
    "#### Breakdown\n",
    "Transforming the 'student' Column:\n",
    "\n",
    "The OneHotEncoder will be applied to the 'student' column.\n",
    "If 'student' is a binary categorical column (e.g., 'yes' or 'no'), one of the categories will be dropped to avoid redundancy.\n",
    "Standardizing the Remaining Columns:\n",
    "\n",
    "All other columns not specified (i.e., all columns except 'student') will be standardized using the StandardScaler.\n",
    "StandardScaler will compute the mean and standard deviation for each feature in the training set and will standardize each feature by subtracting the mean and dividing by the standard deviation."
   ]
  },
  {
   "cell_type": "markdown",
   "metadata": {
    "nbgrader": {
     "grade": false,
     "grade_id": "cell-fd20a8040672b4a5",
     "locked": true,
     "schema_version": 3,
     "solution": false
    }
   },
   "source": [
    "[Back to top](#-Index)\n",
    "\n",
    "### Pipeline with KNN and n_neighbors = 5\n",
    "\n",
    "Using column `transformer` defined above, to create a `Pipeline` named `fivepipe` below with steps `transform` and `knn` that transform columns and subsequently build a KNN model using `KNeighborsClassifier()`.  \n",
    "\n",
    "Using the `fit` function to fit the pipe on the training data and useing the `.score method of the fit pipe to determine the accuracy on the test data.  Assigning this to `fivepipe_acc` below."
   ]
  },
  {
   "cell_type": "code",
   "execution_count": 13,
   "metadata": {
    "nbgrader": {
     "grade": false,
     "grade_id": "cell-10a7445b87caffd9",
     "locked": false,
     "schema_version": 3,
     "solution": true
    }
   },
   "outputs": [
    {
     "name": "stdout",
     "output_type": "stream",
     "text": [
      "0.968\n"
     ]
    },
    {
     "name": "stderr",
     "output_type": "stream",
     "text": [
      "C:\\ProgramData\\Anaconda3\\lib\\site-packages\\sklearn\\neighbors\\_classification.py:228: FutureWarning: Unlike other reduction functions (e.g. `skew`, `kurtosis`), the default behavior of `mode` typically preserves the axis it acts along. In SciPy 1.11.0, this behavior will change: the default value of `keepdims` will become False, the `axis` over which the statistic is taken will be eliminated, and the value None will no longer be accepted. Set `keepdims` to True or False to avoid this warning.\n",
      "  mode, _ = stats.mode(_y[neigh_ind, k], axis=1)\n"
     ]
    }
   ],
   "source": [
    "# Create pipeline with n_neighbors = 5\n",
    "fivepipe = Pipeline([('transform', transformer), ('knn', KNeighborsClassifier())])\n",
    "fivepipe.fit(X_train, y_train)\n",
    "fivepipe_acc = fivepipe.score(X_test, y_test)\n",
    "\n",
    "# Answer check\n",
    "print(fivepipe_acc)"
   ]
  },
  {
   "cell_type": "markdown",
   "metadata": {
    "nbgrader": {
     "grade": false,
     "grade_id": "cell-f26e7aa7fc912fb0",
     "locked": true,
     "schema_version": 3,
     "solution": false
    }
   },
   "source": [
    "[Back to top](#-Index)\n",
    "\n",
    "### Pipeline with n_neighbors = 50\n",
    "\n",
    "Using column `transformer` defined above, creating a `Pipeline` named `fiftypipe` below with steps `transform` and `knn` that transforms columns and subsequently builds a KNN model using `KNeighborsClassifier()`. Building the KNN model with `n_neighbors = 50`\n",
    "\n",
    "Useing the `fit` function to fit the pipe on the training data and using the `.score` method of the fit pipe to determine the accuracy on the test data.  Assigning this to `fiftypipe_acc` below.\n"
   ]
  },
  {
   "cell_type": "code",
   "execution_count": 14,
   "metadata": {
    "nbgrader": {
     "grade": false,
     "grade_id": "cell-afa4622c85a5bc0e",
     "locked": false,
     "schema_version": 3,
     "solution": true
    }
   },
   "outputs": [
    {
     "name": "stdout",
     "output_type": "stream",
     "text": [
      "0.9712\n"
     ]
    },
    {
     "name": "stderr",
     "output_type": "stream",
     "text": [
      "C:\\ProgramData\\Anaconda3\\lib\\site-packages\\sklearn\\neighbors\\_classification.py:228: FutureWarning: Unlike other reduction functions (e.g. `skew`, `kurtosis`), the default behavior of `mode` typically preserves the axis it acts along. In SciPy 1.11.0, this behavior will change: the default value of `keepdims` will become False, the `axis` over which the statistic is taken will be eliminated, and the value None will no longer be accepted. Set `keepdims` to True or False to avoid this warning.\n",
      "  mode, _ = stats.mode(_y[neigh_ind, k], axis=1)\n"
     ]
    }
   ],
   "source": [
    "#Create pipeline with n_neighbors = 50\n",
    "fiftypipe = Pipeline([('transform', transformer), ('knn', KNeighborsClassifier(n_neighbors=50))])\n",
    "fiftypipe.fit(X_train, y_train)\n",
    "fiftypipe_acc = fiftypipe.score(X_test, y_test)\n",
    "\n",
    "# Answer check\n",
    "print(fiftypipe_acc)"
   ]
  },
  {
   "cell_type": "markdown",
   "metadata": {
    "nbgrader": {
     "grade": false,
     "grade_id": "cell-7b9d286d60d84fb3",
     "locked": true,
     "schema_version": 3,
     "solution": false
    }
   },
   "source": [
    "[Back to top](#-Index)\n",
    "\n",
    "### False Predictions\n",
    "\n",
    "Finally, compare the two pipelines based on the number of sum of the errors (FP+FN) -- those observations who the model predicted to default but incorrectly so. Assigning these values as integers to `five_fp` and `fifty_fp` respectively.   \n"
   ]
  },
  {
   "cell_type": "code",
   "execution_count": 15,
   "metadata": {
    "nbgrader": {
     "grade": false,
     "grade_id": "cell-28ae5ad90b1726e7",
     "locked": false,
     "schema_version": 3,
     "solution": true
    }
   },
   "outputs": [
    {
     "name": "stdout",
     "output_type": "stream",
     "text": [
      "Number of False Predictions with five neighbors: 80\n",
      "Number of False Predictions with fifty neighbors: 72\n"
     ]
    },
    {
     "name": "stderr",
     "output_type": "stream",
     "text": [
      "C:\\ProgramData\\Anaconda3\\lib\\site-packages\\sklearn\\neighbors\\_classification.py:228: FutureWarning: Unlike other reduction functions (e.g. `skew`, `kurtosis`), the default behavior of `mode` typically preserves the axis it acts along. In SciPy 1.11.0, this behavior will change: the default value of `keepdims` will become False, the `axis` over which the statistic is taken will be eliminated, and the value None will no longer be accepted. Set `keepdims` to True or False to avoid this warning.\n",
      "  mode, _ = stats.mode(_y[neigh_ind, k], axis=1)\n",
      "C:\\ProgramData\\Anaconda3\\lib\\site-packages\\sklearn\\neighbors\\_classification.py:228: FutureWarning: Unlike other reduction functions (e.g. `skew`, `kurtosis`), the default behavior of `mode` typically preserves the axis it acts along. In SciPy 1.11.0, this behavior will change: the default value of `keepdims` will become False, the `axis` over which the statistic is taken will be eliminated, and the value None will no longer be accepted. Set `keepdims` to True or False to avoid this warning.\n",
      "  mode, _ = stats.mode(_y[neigh_ind, k], axis=1)\n"
     ]
    }
   ],
   "source": [
    "#Count the false predictions \n",
    "five_fp = sum(fivepipe.predict(X_test) != y_test)\n",
    "fifty_fp = sum(fiftypipe.predict(X_test) != y_test)\n",
    "\n",
    "# Answer check\n",
    "print(f'Number of False Predictions with five neighbors: {five_fp}')\n",
    "print(f'Number of False Predictions with fifty neighbors: {fifty_fp}')"
   ]
  },
  {
   "cell_type": "markdown",
   "metadata": {},
   "source": [
    "### Summary Analysis\n",
    "The findings indicate a comparison of the number of false predictions made by the KNeighborsClassifier with two different values of neighbors (k):\n",
    "\n",
    "##### Number of False Predictions with Five Neighbors (k=5): 80\n",
    "##### Number of False Predictions with Fifty Neighbors (k=50): 72\n",
    "\n",
    "### Analysis\n",
    "\n",
    "#### Model Performance:\n",
    "\n",
    "When using five neighbors (k=5), the model made 80 false predictions.\n",
    "Increasing the number of neighbors to fifty (k=50) reduced the number of false predictions to 72.\n",
    "\n",
    "#### Impact of k on Model Accuracy:\n",
    "\n",
    "The reduction in false predictions when increasing k from 5 to 50 suggests that a higher k value may improve the model's accuracy.\n",
    "This improvement is likely because a higher k value considers more neighboring data points, leading to more stable and generalized decision boundaries.\n",
    "\n",
    "#### Bias-Variance Tradeoff:\n",
    "\n",
    "A smaller k value (e.g., k=5) typically results in a more flexible model that can capture finer details in the data but may also lead to higher variance and overfitting.\n",
    "A larger k value (e.g., k=50) smooths out the decision boundaries, reducing variance and potentially improving generalization, as indicated by the fewer false predictions.\n",
    "\n",
    "#### Optimal k Value:\n",
    "\n",
    "While increasing k to 50 has reduced false predictions, it is essential to note that there is a point where further increasing k may lead to underfitting, where the model becomes too generalized and fails to capture important patterns in the data.\n",
    "Finding the optimal k value involves balancing the bias-variance tradeoff and often requires cross-validation and performance evaluation on different datasets.\n",
    "\n",
    "### Conclusion\n",
    "Increasing the number of neighbors in the KNeighborsClassifier from 5 to 50 has resulted in fewer false predictions, suggesting an improvement in model accuracy. However, it is crucial to continue exploring and validating different k values to find the optimal balance for the specific dataset and problem at hand. This process ensures that the model remains both accurate and generalizable."
   ]
  },
  {
   "cell_type": "code",
   "execution_count": null,
   "metadata": {},
   "outputs": [],
   "source": []
  }
 ],
 "metadata": {
  "celltoolbar": "Create Assignment",
  "kernelspec": {
   "display_name": "Python 3 (ipykernel)",
   "language": "python",
   "name": "python3"
  },
  "language_info": {
   "codemirror_mode": {
    "name": "ipython",
    "version": 3
   },
   "file_extension": ".py",
   "mimetype": "text/x-python",
   "name": "python",
   "nbconvert_exporter": "python",
   "pygments_lexer": "ipython3",
   "version": "3.9.13"
  },
  "widgets": {
   "application/vnd.jupyter.widget-state+json": {
    "state": {},
    "version_major": 2,
    "version_minor": 0
   }
  }
 },
 "nbformat": 4,
 "nbformat_minor": 4
}
